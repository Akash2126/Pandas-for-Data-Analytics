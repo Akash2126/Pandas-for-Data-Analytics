{
 "cells": [
  {
   "cell_type": "code",
   "execution_count": 3,
   "id": "85423595-acb6-4949-9277-db092880d8c8",
   "metadata": {},
   "outputs": [
    {
     "name": "stdout",
     "output_type": "stream",
     "text": [
      "        Name  age  salary\n",
      "0      Akash   22  450000\n",
      "1    Abhisek   23   50000\n",
      "2      Kumal   24   55000\n",
      "3  Priyanshu   25   60000\n"
     ]
    }
   ],
   "source": [
    "import pandas as pd\n",
    "data = {\"Name\":[\"Akash\", \"Abhisek\", \"Kumal\",\"Priyanshu\"],\n",
    "        \"age\":[22,23,24,25],\n",
    "        \"salary\":[450000,50000,55000, 60000]}\n",
    "\n",
    "df = pd.DataFrame(data)\n",
    "print(df)"
   ]
  },
  {
   "cell_type": "code",
   "execution_count": 4,
   "id": "a784e17c-2892-4830-95e1-104c375d4ae3",
   "metadata": {},
   "outputs": [
    {
     "name": "stdout",
     "output_type": "stream",
     "text": [
      "    CustomerID        CustomerName         Region  SignupDate\n",
      "0        C0001    Lawrence Carroll  South America  2022-07-10\n",
      "1        C0002      Elizabeth Lutz           Asia  2022-02-13\n",
      "2        C0003      Michael Rivera  South America  2024-03-07\n",
      "3        C0004  Kathleen Rodriguez  South America  2022-10-09\n",
      "4        C0005         Laura Weber           Asia  2022-08-15\n",
      "..         ...                 ...            ...         ...\n",
      "195      C0196         Laura Watts         Europe  2022-06-07\n",
      "196      C0197    Christina Harvey         Europe  2023-03-21\n",
      "197      C0198         Rebecca Ray         Europe  2022-02-27\n",
      "198      C0199      Andrea Jenkins         Europe  2022-12-03\n",
      "199      C0200         Kelly Cross           Asia  2023-06-11\n",
      "\n",
      "[200 rows x 4 columns]\n"
     ]
    }
   ],
   "source": [
    "data = pd.read_csv(\"customers.csv\")\n",
    "print(data)"
   ]
  },
  {
   "cell_type": "code",
   "execution_count": 8,
   "id": "1ce7d17c-9aa3-4648-b22d-f43f4d6cfd46",
   "metadata": {},
   "outputs": [
    {
     "name": "stdout",
     "output_type": "stream",
     "text": [
      "          N_id                           Title Main Genre  \\\n",
      "0       215309      Ace Ventura: Pet Detective     Comedy   \n",
      "1       215318  Ace Ventura: When Nature Calls     Comedy   \n",
      "2       217258               The Addams Family     Comedy   \n",
      "3       217303            Addams Family Values     Comedy   \n",
      "4       235527                       Agneepath      Drama   \n",
      "...        ...                             ...        ...   \n",
      "6398  81988312                     Laila Majnu    Romance   \n",
      "6399  81988313                Veere Di Wedding     Comedy   \n",
      "6400  81992621    Paw Patrol Holiday Fireplace       Kids   \n",
      "6401  81994051                        Notebook      Drama   \n",
      "6402  81994054                       Loveyatri    Romance   \n",
      "\n",
      "                                             Sub Genres  Release Year  \\\n",
      "0                                   Comedy, Mystery, US        1994.0   \n",
      "1                        Comedy, Action & Adventure, US        1995.0   \n",
      "2                                            Comedy, US        1991.0   \n",
      "3                                            Comedy, US        1993.0   \n",
      "4               Hindi-Language, Bollywood, Crime, Drama        1990.0   \n",
      "...                                                 ...           ...   \n",
      "6398  Hindi-Language, Bollywood, Drama, Romantic, Ba...        2018.0   \n",
      "6399                  Hindi-Language, Bollywood, Comedy        2018.0   \n",
      "6400                       Kids Music, Special Interest        2024.0   \n",
      "6401  Hindi-Language, Bollywood, Drama, Romantic, So...        2019.0   \n",
      "6402         Hindi-Language, Bollywood, Drama, Romantic        2018.0   \n",
      "\n",
      "     Maturity Rating                                     Original Audio  \\\n",
      "0                  A                          Hindi, English [Original]   \n",
      "1            U/A 16+                          Hindi, English [Original]   \n",
      "2            U/A 13+  English [Original], Hindi, English - Audio Des...   \n",
      "3            U/A 13+  English [Original], Hindi, English - Audio Des...   \n",
      "4            U/A 16+                                   Hindi [Original]   \n",
      "...              ...                                                ...   \n",
      "6398         U/A 13+                                   Hindi [Original]   \n",
      "6399         U/A 16+                                   Hindi [Original]   \n",
      "6400               U                             No Dialogue [Original]   \n",
      "6401          U/A 7+                                   Hindi [Original]   \n",
      "6402          U/A 7+                                   Hindi [Original]   \n",
      "\n",
      "                                        Recommendations  \n",
      "0     70184054, 60001650, 70112729, 70027007, 115246...  \n",
      "1     70184054, 60001650, 70112729, 70027007, 115246...  \n",
      "2     81156676, 81231974, 70027007, 80049939, 702179...  \n",
      "3     81156676, 70044593, 81231974, 70027007, 800500...  \n",
      "4     17517355, 80158546, 80158395, 80074065, 702042...  \n",
      "...                                                 ...  \n",
      "6398  80065328, 81994054, 80087743, 81423081, 819940...  \n",
      "6399  70181653, 80065328, 81672746, 80032081, 703034...  \n",
      "6400  81294811, 81154166, 81272431, 81640914, 815003...  \n",
      "6401  80080110, 80065328, 81994054, 80087743, 819883...  \n",
      "6402  80080110, 80065328, 81988312, 70303428, 800877...  \n",
      "\n",
      "[6403 rows x 8 columns]\n"
     ]
    }
   ],
   "source": [
    "data = pd.read_excel(\"netflix_data.xlsx\")\n",
    "print(data)"
   ]
  },
  {
   "cell_type": "code",
   "execution_count": null,
   "id": "22d247fd-0434-4cd7-8da8-cc9fd16862c4",
   "metadata": {},
   "outputs": [],
   "source": []
  }
 ],
 "metadata": {
  "kernelspec": {
   "display_name": "Python 3 (ipykernel)",
   "language": "python",
   "name": "python3"
  },
  "language_info": {
   "codemirror_mode": {
    "name": "ipython",
    "version": 3
   },
   "file_extension": ".py",
   "mimetype": "text/x-python",
   "name": "python",
   "nbconvert_exporter": "python",
   "pygments_lexer": "ipython3",
   "version": "3.12.5"
  }
 },
 "nbformat": 4,
 "nbformat_minor": 5
}
