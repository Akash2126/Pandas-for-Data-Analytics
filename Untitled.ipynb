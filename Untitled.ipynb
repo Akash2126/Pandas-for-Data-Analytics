{
 "cells": [
  {
   "cell_type": "code",
   "execution_count": 1,
   "id": "19b42119-d3cb-4c25-aace-47c99277ebde",
   "metadata": {},
   "outputs": [
    {
     "name": "stdout",
     "output_type": "stream",
     "text": [
      "C:\\Users\\Akash\\Pandas for Data Analytics\n"
     ]
    }
   ],
   "source": [
    "import os\n",
    "print(os.getcwd())  # Yeh dikhaayega ki files kis location pe save ho rahi hain\n"
   ]
  },
  {
   "cell_type": "code",
   "execution_count": null,
   "id": "09504696-8b7e-42ea-ac6c-f9539d55fdbd",
   "metadata": {},
   "outputs": [],
   "source": []
  },
  {
   "cell_type": "code",
   "execution_count": null,
   "id": "d0e0e0f4-e399-4247-99d8-268eb65b92cc",
   "metadata": {},
   "outputs": [],
   "source": []
  }
 ],
 "metadata": {
  "kernelspec": {
   "display_name": "Python 3 (ipykernel)",
   "language": "python",
   "name": "python3"
  },
  "language_info": {
   "codemirror_mode": {
    "name": "ipython",
    "version": 3
   },
   "file_extension": ".py",
   "mimetype": "text/x-python",
   "name": "python",
   "nbconvert_exporter": "python",
   "pygments_lexer": "ipython3",
   "version": "3.12.5"
  }
 },
 "nbformat": 4,
 "nbformat_minor": 5
}
